{
 "cells": [
  {
   "cell_type": "markdown",
   "metadata": {},
   "source": [
    "#### Задание 1.\n",
    "\n",
    "Даны значения зарплат из выборки выпускников: 100, 80, 75, 77, 89, 33, 45, 25, 65, 17, 30, 24, 57, 55, 70, 75, 65, 84, 90, 150. Посчитать (желательно без использования статистических методов наподобие std, var, mean) среднее арифметическое, среднее квадратичное отклонение, смещенную и несмещенную оценки дисперсий для данной выборки."
   ]
  },
  {
   "cell_type": "code",
   "execution_count": 1,
   "metadata": {},
   "outputs": [
    {
     "data": {
      "text/plain": [
       "array([100,  80,  75,  77,  89,  33,  45,  25,  65,  17,  30,  24,  57,\n",
       "        55,  70,  75,  65,  84,  90, 150])"
      ]
     },
     "execution_count": 1,
     "metadata": {},
     "output_type": "execute_result"
    }
   ],
   "source": [
    "import numpy as np\n",
    "\n",
    "a = np.array([100, 80, 75, 77, 89, 33, 45, 25, 65, 17, 30, 24, 57, 55, 70, 75, 65, 84, 90, 150])\n",
    "a"
   ]
  },
  {
   "cell_type": "code",
   "execution_count": 2,
   "metadata": {},
   "outputs": [
    {
     "name": "stdout",
     "output_type": "stream",
     "text": [
      "65.3 65.3\n"
     ]
    }
   ],
   "source": [
    "# Среднее арифметическое\n",
    "my_mean = a.sum()/len(a)\n",
    "print(my_mean, a.mean())"
   ]
  },
  {
   "cell_type": "code",
   "execution_count": 3,
   "metadata": {},
   "outputs": [
    {
     "name": "stdout",
     "output_type": "stream",
     "text": [
      "30.823854398825596 30.823854398825596\n"
     ]
    }
   ],
   "source": [
    "# Среднее квадратическое отклонение\n",
    "my_std = 0\n",
    "for itm in a:\n",
    "    my_std += pow(itm - my_mean, 2)\n",
    "my_std = np.sqrt(my_std / len(a))\n",
    "\n",
    "print(my_std, a.std())"
   ]
  },
  {
   "cell_type": "code",
   "execution_count": 4,
   "metadata": {},
   "outputs": [
    {
     "name": "stdout",
     "output_type": "stream",
     "text": [
      "950.11 950.11\n"
     ]
    }
   ],
   "source": [
    "# Смещенная оценка дисперсии\n",
    "my_var = 0\n",
    "for itm in a:\n",
    "    my_var += pow(itm - my_mean, 2)\n",
    "my_var = my_var / len(a)\n",
    "\n",
    "print(my_var, a.var())"
   ]
  },
  {
   "cell_type": "code",
   "execution_count": 5,
   "metadata": {},
   "outputs": [
    {
     "name": "stdout",
     "output_type": "stream",
     "text": [
      "1000.1157894736842 1000.1157894736842\n"
     ]
    }
   ],
   "source": [
    "# Несмещенная оценка дисперсии\n",
    "my_var_1 = 0\n",
    "for itm in a:\n",
    "    my_var_1 += pow(itm - my_mean, 2)\n",
    "my_var_1 = my_var_1 / (len(a) - 1)\n",
    "\n",
    "print(my_var_1, a.var(ddof=1))"
   ]
  },
  {
   "cell_type": "markdown",
   "metadata": {},
   "source": [
    "#### Задание 2.\n",
    "\n",
    "В первом ящике находится 8 мячей, из которых 5 - белые. Во втором ящике - 12 мячей, из которых 5 белых. Из первого ящика вытаскивают случайным образом два мяча, из второго - 4. Какова вероятность того, что 3 мяча белые?\n",
    "\n",
    "Благоприятными исходами при вытаскивании мячей из двух корзин будут следующие комбинации мячей:\n",
    "\n",
    "- 1-я корзина - 2 белых, 2-я корзина - 1 белый, 3 черных\n",
    "\n",
    "- 1-я корзина - 1 белый, 1 черный, 2-я корзина - 2 белых, 2 черных\n",
    "\n",
    "- 1-я корзина - 2 черных, 2-я корзина - 3 белых, 1 черный"
   ]
  },
  {
   "cell_type": "code",
   "execution_count": 6,
   "metadata": {},
   "outputs": [],
   "source": [
    "from math import factorial\n",
    "\n",
    "def combinations(n, k):\n",
    "    return int(factorial(n) / (factorial(k) * factorial(n - k)))"
   ]
  },
  {
   "cell_type": "code",
   "execution_count": 7,
   "metadata": {},
   "outputs": [
    {
     "name": "stdout",
     "output_type": "stream",
     "text": [
      "0.12626262626262627 0.22727272727272727 0.01515151515151515 0.3686868686868687\n"
     ]
    }
   ],
   "source": [
    "p1 = (combinations(5, 2)/combinations(8, 2))*(combinations(5, 1)*combinations(7, 3)/combinations(12, 4))\n",
    "p2 = (combinations(5, 1)*combinations(3, 1)/combinations(8, 2))*(combinations(5, 2)*combinations(7, 2)/combinations(12, 4))\n",
    "p3 = (combinations(3, 2)/combinations(8, 2))*(combinations(5, 3)*combinations(7, 1)/combinations(12, 4))\n",
    "p = p1 + p2 + p3\n",
    "print(p1, p2, p3, p)"
   ]
  },
  {
   "cell_type": "markdown",
   "metadata": {},
   "source": [
    "Ответ: вероятность того, что 3 мяча белые - 36.87%"
   ]
  },
  {
   "cell_type": "markdown",
   "metadata": {},
   "source": [
    "#### Задание 3.\n",
    "\n",
    "На соревновании по биатлону один из трех спортсменов стреляет и попадает в мишень. Вероятность попадания для первого спортсмена равна 0.9, для второго — 0.8, для третьего — 0.6. Найти вероятность того, что выстрел произведен: a). первым спортсменом б). вторым спортсменом в). третьим спортсменом."
   ]
  },
  {
   "cell_type": "markdown",
   "metadata": {},
   "source": [
    "Искомые вероятности найдем по формуле:\n",
    "\n",
    "$$P(B_{n}|A)=\\frac{P(B_{n})\\cdot P(A|B_{n})}{P(A)}$$\n",
    "\n",
    "$P(A|B_{n})$ - заданные вероятности попадания каждого спортсмена в мишень,\n",
    "\n",
    "$P(B_{n})$ - вероятность выстрела каждого спортсмена, $P(B_{n})=\\frac{1}{3}$,\n",
    "\n",
    "$P(A)$ - вероятность попадания в мишень, $P(A)=\\frac{1}{3}(0.9+0.8+0.6)=0.7(6)$\n",
    "\n",
    "Таким образом,\n",
    "\n",
    "$$P(B_{1}|A)=\\frac{\\frac{1}{3}\\cdot 0.9}{0.7(6)}=39.13\\%$$\n"
   ]
  },
  {
   "cell_type": "markdown",
   "metadata": {},
   "source": [
    "\n",
    "$$P(B_{2}|A)=\\frac{\\frac{1}{3}\\cdot 0.8}{0.7(6)}=34.78\\%$$\n"
   ]
  },
  {
   "cell_type": "markdown",
   "metadata": {},
   "source": [
    "\n",
    "$$P(B_{3}|A)=\\frac{\\frac{1}{3}\\cdot 0.6}{0.7(6)}=26.09\\%$$"
   ]
  },
  {
   "cell_type": "markdown",
   "metadata": {},
   "source": [
    "#### Задание 4.\n",
    "\n",
    "В университет на факультеты A и B поступило равное количество студентов, а на факультет C студентов поступило столько же, сколько на A и B вместе. Вероятность того, что студент факультета A сдаст первую сессию, равна 0.8. Для студента факультета B эта вероятность равна 0.7, а для студента факультета C - 0.9. Студент сдал первую сессию. Какова вероятность, что он учится: a). на факультете A б). на факультете B в). на факультете C?"
   ]
  },
  {
   "cell_type": "markdown",
   "metadata": {},
   "source": [
    "Искомые вероятности найдем по формуле:\n",
    "\n",
    "$$P(B_{n}|A)=\\frac{P(B_{n})\\cdot P(A|B_{n})}{P(A)}$$\n",
    "\n",
    "$P(A|B_{n})$ - заданные вероятности сдать сессии в каждом факультете,\n",
    "\n",
    "$P(B_{n})$ - вероятность, что случайно выбранный студент учится в данном факультете, $P(B_{1})=P(B_{2})=0.25,P(B_{3})=0.5$,\n",
    "\n",
    "$P(A)$ - вероятность сдать сессию для случайного студента, $P(A)=0.25(0.8+0.7)+0.5\\cdot 0.9=0.825$\n",
    "\n",
    "Таким образом,"
   ]
  },
  {
   "cell_type": "markdown",
   "metadata": {},
   "source": [
    "\n",
    "$$P(B_{1}|A)=\\frac{0.25\\cdot 0.8}{0.825}=24.24\\%$$\n"
   ]
  },
  {
   "cell_type": "markdown",
   "metadata": {},
   "source": [
    "\n",
    "$$P(B_{2}|A)=\\frac{0.25\\cdot 0.7}{0.825}=21.21\\%$$\n"
   ]
  },
  {
   "cell_type": "markdown",
   "metadata": {},
   "source": [
    "\n",
    "$$P(B_{3}|A)=\\frac{0.5\\cdot 0.9}{0.825}=54.54\\%$$"
   ]
  },
  {
   "cell_type": "markdown",
   "metadata": {},
   "source": [
    "#### Задание 5.\n",
    "\n",
    "Устройство состоит из трех деталей. Для первой детали вероятность выйти из строя в первый месяц равна 0.1, для второй - 0.2, для третьей - 0.25. Какова вероятность того, что в первый месяц выйдут из строя: а). все детали б). только две детали в). хотя бы одна деталь г). от одной до двух деталей?"
   ]
  },
  {
   "cell_type": "code",
   "execution_count": 8,
   "metadata": {},
   "outputs": [
    {
     "data": {
      "text/plain": [
       "0.005000000000000001"
      ]
     },
     "execution_count": 8,
     "metadata": {},
     "output_type": "execute_result"
    }
   ],
   "source": [
    "p1 = 0.1\n",
    "p2 = 0.2\n",
    "p3 = 0.25\n",
    "\n",
    "# a)\n",
    "p = p1 * p2 * p3\n",
    "p"
   ]
  },
  {
   "cell_type": "code",
   "execution_count": 9,
   "metadata": {},
   "outputs": [
    {
     "data": {
      "text/plain": [
       "0.08000000000000002"
      ]
     },
     "execution_count": 9,
     "metadata": {},
     "output_type": "execute_result"
    }
   ],
   "source": [
    "# b)\n",
    "\n",
    "p = p1*p2*(1-p3) + p1*p3*(1-p2) + p2*p3*(1-p1)\n",
    "p"
   ]
  },
  {
   "cell_type": "code",
   "execution_count": 10,
   "metadata": {},
   "outputs": [
    {
     "data": {
      "text/plain": [
       "0.45999999999999996"
      ]
     },
     "execution_count": 10,
     "metadata": {},
     "output_type": "execute_result"
    }
   ],
   "source": [
    "# c)\n",
    "\n",
    "q = (1-p1)*(1-p2)*(1-p3)\n",
    "p = 1-q\n",
    "p"
   ]
  },
  {
   "cell_type": "code",
   "execution_count": 11,
   "metadata": {},
   "outputs": [
    {
     "data": {
      "text/plain": [
       "0.45499999999999996"
      ]
     },
     "execution_count": 11,
     "metadata": {},
     "output_type": "execute_result"
    }
   ],
   "source": [
    "# d) от одной до 2-х деталей можно представить как вероятность выхода из строя хотя бы одной детали минус вероятность выхода\n",
    "# из строя всех деталей\n",
    "\n",
    "p = 1-q - p1 * p2 * p3\n",
    "p"
   ]
  }
 ],
 "metadata": {
  "kernelspec": {
   "display_name": "Python 3",
   "language": "python",
   "name": "python3"
  },
  "language_info": {
   "codemirror_mode": {
    "name": "ipython",
    "version": 3
   },
   "file_extension": ".py",
   "mimetype": "text/x-python",
   "name": "python",
   "nbconvert_exporter": "python",
   "pygments_lexer": "ipython3",
   "version": "3.8.5"
  }
 },
 "nbformat": 4,
 "nbformat_minor": 4
}
