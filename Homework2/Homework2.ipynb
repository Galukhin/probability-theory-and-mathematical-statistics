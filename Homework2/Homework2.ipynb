{
 "cells": [
  {
   "cell_type": "markdown",
   "metadata": {},
   "source": [
    "#### Задание 1.\n",
    "\n",
    "Вероятность того, что стрелок попадет в мишень, выстрелив один раз, равна 0.8. Стрелок выстрелил 100 раз. Найдите вероятность того, что стрелок попадет в цель ровно 85 раз."
   ]
  },
  {
   "cell_type": "code",
   "execution_count": 1,
   "metadata": {},
   "outputs": [],
   "source": [
    "from math import factorial\n",
    "import numpy as np\n",
    "\n",
    "def combinations(n, k):\n",
    "    return int(factorial(n) / (factorial(k) * factorial(n - k)))\n",
    "\n",
    "def binomial_p(p, n, k):\n",
    "    return combinations(n, k) * pow(p, k) * pow((1 - p), (n - k))"
   ]
  },
  {
   "cell_type": "code",
   "execution_count": 2,
   "metadata": {},
   "outputs": [
    {
     "name": "stdout",
     "output_type": "stream",
     "text": [
      "0.048061793700746355\n"
     ]
    }
   ],
   "source": [
    "p = 0.8\n",
    "n = 100\n",
    "k = 85\n",
    "P = binomial_p(p, n, k)\n",
    "print(P)"
   ]
  },
  {
   "cell_type": "markdown",
   "metadata": {},
   "source": [
    "Ответ: вероятность того, что стрелок из 100 раз попадет ровно 85 равна 4.81%"
   ]
  },
  {
   "cell_type": "markdown",
   "metadata": {},
   "source": [
    "#### Задание 2.\n",
    "\n",
    "Вероятность того, что лампочка перегорит в течение первого дня эксплуатации, равна 0.0004. В жилом комплексе после ремонта в один день включили 5000 новых лампочек. Какова вероятность, что ни одна из них не перегорит в первый день? Какова вероятность, что перегорят ровно две?"
   ]
  },
  {
   "cell_type": "code",
   "execution_count": 3,
   "metadata": {},
   "outputs": [],
   "source": [
    "def puasson(lamb, m):\n",
    "    return pow(lamb, m) * np.exp(-1 * lamb) / factorial(m)"
   ]
  },
  {
   "cell_type": "code",
   "execution_count": 4,
   "metadata": {},
   "outputs": [
    {
     "name": "stdout",
     "output_type": "stream",
     "text": [
      "0.1353352832366127 0.2706705664732254\n"
     ]
    }
   ],
   "source": [
    "p = 0.0004\n",
    "n = 5000\n",
    "lamb = n * p\n",
    "m1 = 0\n",
    "m2 = 2\n",
    "P1 = puasson(lamb, m1)\n",
    "P2 = puasson(lamb, m2)\n",
    "print(P1, P2)"
   ]
  },
  {
   "cell_type": "markdown",
   "metadata": {},
   "source": [
    "Ответ: а) вероятность, что ни одна лампочка не перегорит - 13.5%. б) что перегорит 2 - 27.1%"
   ]
  },
  {
   "cell_type": "markdown",
   "metadata": {},
   "source": [
    "#### Задание 3.\n",
    "\n",
    "Монету подбросили 144 раза. Какова вероятность, что орел выпадет ровно 70 раз?"
   ]
  },
  {
   "cell_type": "code",
   "execution_count": 5,
   "metadata": {},
   "outputs": [
    {
     "name": "stdout",
     "output_type": "stream",
     "text": [
      "0.06281178035144776\n"
     ]
    }
   ],
   "source": [
    "p = 0.5\n",
    "n = 144\n",
    "k = 70\n",
    "P = binomial_p(p, n, k)\n",
    "print(P)"
   ]
  },
  {
   "cell_type": "markdown",
   "metadata": {},
   "source": [
    "Ответ: вероятность выпадения орла ровно 70 раз при 144-х подбрасываниях равна 6.3%"
   ]
  },
  {
   "cell_type": "markdown",
   "metadata": {},
   "source": [
    "#### Задание 4.\n",
    "\n",
    "В первом ящике находится 10 мячей, из которых 7 - белые. Во втором ящике - 11 мячей, из которых 9 белых. Из каждого ящика вытаскивают случайным образом по два мяча. Какова вероятность того, что все мячи белые? Какова вероятность того, что ровно два мяча белые? Какова вероятность того, что хотя бы один мяч белый?"
   ]
  },
  {
   "cell_type": "code",
   "execution_count": 6,
   "metadata": {},
   "outputs": [
    {
     "name": "stdout",
     "output_type": "stream",
     "text": [
      "0.4666666666666667 0.6545454545454545 0.3054545454545455\n"
     ]
    }
   ],
   "source": [
    "# a)\n",
    "\n",
    "p1 = combinations(7, 2) / combinations(10, 2)\n",
    "p2 = combinations(9, 2) / combinations(11, 2)\n",
    "p = p1 * p2\n",
    "print(p1, p2, p)"
   ]
  },
  {
   "cell_type": "markdown",
   "metadata": {},
   "source": [
    "Вероятность того, что ровно 2 мяча белые считается как Р1 + Р2 + Р3, где\n",
    "\n",
    "Р1 - вероятность того, что из первой корзины вытащили 2 белых мяча, а из второй 2 черных\n",
    "\n",
    "Р2 - вероятность того, что из второй корзины вытащили 2 белых мяча, а из первой 2 черных\n",
    "\n",
    "Р3 - вероятность того, что из первой и второй корзины вытащили по белому и черному мячу\n",
    "\n",
    "P3 = P31 * P32,\n",
    "\n",
    "где Р31 - вероятность вытащить белый и черный мяч из первой корзины,\n",
    "\n",
    "Р32 - из второй"
   ]
  },
  {
   "cell_type": "code",
   "execution_count": 7,
   "metadata": {},
   "outputs": [
    {
     "name": "stdout",
     "output_type": "stream",
     "text": [
      "0.008484848484848484 0.04363636363636363 0.15272727272727274 0.20484848484848486\n"
     ]
    }
   ],
   "source": [
    "# b)\n",
    "\n",
    "p1 = (combinations(7, 2) / combinations(10, 2)) * (combinations(2, 2) / combinations(11, 2))\n",
    "p2 = (combinations(3, 2) / combinations(10, 2)) * (combinations(9, 2) / combinations(11, 2))\n",
    "p31 = combinations(3, 1) * combinations(7, 1) / combinations(10, 2)\n",
    "p32 = combinations(2, 1) * combinations(9, 1) / combinations(11, 2)\n",
    "p3 = p31 * p32\n",
    "p = p1 + p2 + p3\n",
    "print(p1, p2, p3, p)"
   ]
  },
  {
   "cell_type": "markdown",
   "metadata": {},
   "source": [
    "Вероятность того, что хотя бы один мяч белый можно посчитать следующим образом: P = 1 - Q, где Q - вероятность того, что все мячи черные"
   ]
  },
  {
   "cell_type": "code",
   "execution_count": 8,
   "metadata": {},
   "outputs": [
    {
     "name": "stdout",
     "output_type": "stream",
     "text": [
      "0.9987878787878788 0.0012121212121212121\n"
     ]
    }
   ],
   "source": [
    "# c)\n",
    "\n",
    "q = (combinations(3, 2) / combinations(10, 2)) * (combinations(2, 2) / combinations(11, 2))\n",
    "p = 1 - q\n",
    "print(p, q)"
   ]
  },
  {
   "cell_type": "markdown",
   "metadata": {},
   "source": [
    "Ответ:\n",
    "\n",
    "а) вероятность того, что все мячи белые - 30.54%\n",
    "\n",
    "б) вероятность того, что ровно два мяча белые - 20.48%\n",
    "\n",
    "в) вероятность того, что хотя бы один мяч белый - 99.87%"
   ]
  }
 ],
 "metadata": {
  "kernelspec": {
   "display_name": "Python 3",
   "language": "python",
   "name": "python3"
  },
  "language_info": {
   "codemirror_mode": {
    "name": "ipython",
    "version": 3
   },
   "file_extension": ".py",
   "mimetype": "text/x-python",
   "name": "python",
   "nbconvert_exporter": "python",
   "pygments_lexer": "ipython3",
   "version": "3.8.5"
  }
 },
 "nbformat": 4,
 "nbformat_minor": 4
}
