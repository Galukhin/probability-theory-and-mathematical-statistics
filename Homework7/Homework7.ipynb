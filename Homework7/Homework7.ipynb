{
 "cells": [
  {
   "cell_type": "markdown",
   "metadata": {},
   "source": [
    "#### Задание 1.\n",
    "\n",
    "Даны значения величины заработной платы заемщиков банка (zp) и значения их поведенческого кредитного скоринга (ks): zp = [35, 45, 190, 200, 40, 70, 54, 150, 120, 110], ks = [401, 574, 874, 919, 459, 739, 653, 902, 746, 832]. Используя математические операции, посчитать коэффициенты линейной регрессии, приняв за X заработную плату (то есть, zp - признак), а за y - значения скорингового балла (то есть, ks - целевая переменная). Произвести расчет как с использованием intercept, так и без."
   ]
  },
  {
   "cell_type": "code",
   "execution_count": 1,
   "metadata": {},
   "outputs": [],
   "source": [
    "import numpy as np\n",
    "\n",
    "zp = np.array([35, 45, 190, 200, 40, 70, 54, 150, 120, 110])\n",
    "ks = np.array([401, 574, 874, 919, 459, 739, 653, 902, 746, 832])"
   ]
  },
  {
   "cell_type": "code",
   "execution_count": 2,
   "metadata": {},
   "outputs": [
    {
     "data": {
      "text/plain": [
       "array([[  1.,  35.],\n",
       "       [  1.,  45.],\n",
       "       [  1., 190.],\n",
       "       [  1., 200.],\n",
       "       [  1.,  40.],\n",
       "       [  1.,  70.],\n",
       "       [  1.,  54.],\n",
       "       [  1., 150.],\n",
       "       [  1., 120.],\n",
       "       [  1., 110.]])"
      ]
     },
     "execution_count": 2,
     "metadata": {},
     "output_type": "execute_result"
    }
   ],
   "source": [
    "# with intercept\n",
    "X = zp.reshape((len(zp), 1))\n",
    "X_int = np.hstack([np.ones((len(zp), 1)), X])\n",
    "X_int"
   ]
  },
  {
   "cell_type": "code",
   "execution_count": 3,
   "metadata": {},
   "outputs": [
    {
     "data": {
      "text/plain": [
       "array([[401],\n",
       "       [574],\n",
       "       [874],\n",
       "       [919],\n",
       "       [459],\n",
       "       [739],\n",
       "       [653],\n",
       "       [902],\n",
       "       [746],\n",
       "       [832]])"
      ]
     },
     "execution_count": 3,
     "metadata": {},
     "output_type": "execute_result"
    }
   ],
   "source": [
    "y = ks.reshape((len(ks), 1))\n",
    "y"
   ]
  },
  {
   "cell_type": "code",
   "execution_count": 4,
   "metadata": {},
   "outputs": [
    {
     "data": {
      "text/plain": [
       "array([[444.17735732],\n",
       "       [  2.62053888]])"
      ]
     },
     "execution_count": 4,
     "metadata": {},
     "output_type": "execute_result"
    }
   ],
   "source": [
    "B_int = np.linalg.inv(X_int.T @ X_int) @ X_int.T @ y\n",
    "B_int"
   ]
  },
  {
   "cell_type": "code",
   "execution_count": 5,
   "metadata": {},
   "outputs": [
    {
     "data": {
      "image/png": "[encoded data removed]",
      "text/plain": [
       "<Figure size 432x288 with 1 Axes>"
      ]
     },
     "metadata": {
      "needs_background": "light"
     },
     "output_type": "display_data"
    }
   ],
   "source": [
    "import matplotlib.pyplot as plt\n",
    "%matplotlib inline\n",
    "plt.scatter(zp, ks)\n",
    "plt.plot(zp, B_int[0, 0] + B_int[1, 0] * zp)\n",
    "plt.show()"
   ]
  },
  {
   "cell_type": "code",
   "execution_count": 6,
   "metadata": {},
   "outputs": [
    {
     "data": {
      "text/plain": [
       "6470.414201176658"
      ]
     },
     "execution_count": 6,
     "metadata": {},
     "output_type": "execute_result"
    }
   ],
   "source": [
    "mse_int = ((ks - (B_int[0, 0] + B_int[1, 0] * zp))**2).sum()/len(ks)\n",
    "mse_int"
   ]
  },
  {
   "cell_type": "code",
   "execution_count": 7,
   "metadata": {},
   "outputs": [
    {
     "data": {
      "text/plain": [
       "array([[ 35],\n",
       "       [ 45],\n",
       "       [190],\n",
       "       [200],\n",
       "       [ 40],\n",
       "       [ 70],\n",
       "       [ 54],\n",
       "       [150],\n",
       "       [120],\n",
       "       [110]])"
      ]
     },
     "execution_count": 7,
     "metadata": {},
     "output_type": "execute_result"
    }
   ],
   "source": [
    "# whithout intercept\n",
    "X"
   ]
  },
  {
   "cell_type": "code",
   "execution_count": 8,
   "metadata": {},
   "outputs": [
    {
     "data": {
      "text/plain": [
       "array([[5.88982042]])"
      ]
     },
     "execution_count": 8,
     "metadata": {},
     "output_type": "execute_result"
    }
   ],
   "source": [
    "B = np.linalg.inv(X.T @ X) @ X.T @ y\n",
    "B"
   ]
  },
  {
   "cell_type": "code",
   "execution_count": 10,
   "metadata": {},
   "outputs": [
    {
     "data": {
      "image/png": "[encoded data removed]",
      "text/plain": [
       "<Figure size 432x288 with 1 Axes>"
      ]
     },
     "metadata": {
      "needs_background": "light"
     },
     "output_type": "display_data"
    }
   ],
   "source": [
    "plt.scatter(zp, ks)\n",
    "plt.plot(zp, B[0, 0] * zp)\n",
    "plt.show()"
   ]
  },
  {
   "cell_type": "code",
   "execution_count": 11,
   "metadata": {},
   "outputs": [
    {
     "data": {
      "text/plain": [
       "56516.8584157194"
      ]
     },
     "execution_count": 11,
     "metadata": {},
     "output_type": "execute_result"
    }
   ],
   "source": [
    "mse = ((ks - (B[0, 0] * zp))**2).sum()/len(ks)\n",
    "mse"
   ]
  },
  {
   "cell_type": "code",
   "execution_count": 12,
   "metadata": {},
   "outputs": [
    {
     "data": {
      "text/plain": [
       "8.734658502301397"
      ]
     },
     "execution_count": 12,
     "metadata": {},
     "output_type": "execute_result"
    }
   ],
   "source": [
    "mse/mse_int"
   ]
  },
  {
   "cell_type": "markdown",
   "metadata": {},
   "source": [
    "Вывод - с интерсептом линейная регрессия намного точней описывает зависимость, метрика mse различается почти в 9 раз"
   ]
  },
  {
   "cell_type": "markdown",
   "metadata": {},
   "source": [
    "#### Задание 2.\n",
    "\n",
    "Посчитать коэффициент линейной регрессии при заработной плате (zp), используя градиентный спуск (без intercept)."
   ]
  },
  {
   "cell_type": "code",
   "execution_count": 13,
   "metadata": {},
   "outputs": [],
   "source": [
    "def mse_(B1, y=ks, X=zp, n=len(ks)):\n",
    "    return np.sum((B1*X-y)**2)/n"
   ]
  },
  {
   "cell_type": "code",
   "execution_count": 26,
   "metadata": {},
   "outputs": [],
   "source": [
    "alpha = 1e-6\n",
    "B1 = 10\n",
    "n = len(ks)"
   ]
  },
  {
   "cell_type": "code",
   "execution_count": 27,
   "metadata": {},
   "outputs": [
    {
     "name": "stdout",
     "output_type": "stream",
     "text": [
      "Iteration: 0, B1 = 9.8867514, mse = 276604.34287384455\n",
      "Iteration: 100, B1 = 6.134338965197076, mse = 57340.5519462072\n",
      "Iteration: 200, B1 = 5.904779227072703, mse = 56519.94114908718\n",
      "Iteration: 300, B1 = 5.890735548696904, mse = 56516.86995307483\n",
      "Iteration: 400, B1 = 5.889876404563293, mse = 56516.8584588988\n",
      "Iteration: 500, B1 = 5.889823845068368, mse = 56516.85841588101\n",
      "Iteration: 600, B1 = 5.88982062965852, mse = 56516.85841572002\n",
      "Iteration: 700, B1 = 5.889820432950761, mse = 56516.85841571941\n",
      "Iteration: 800, B1 = 5.8898204209168545, mse = 56516.85841571941\n",
      "Iteration: 900, B1 = 5.889820420180661, mse = 56516.8584157194\n",
      "Iteration: 1000, B1 = 5.8898204201356235, mse = 56516.85841571941\n",
      "Iteration: 1100, B1 = 5.889820420132868, mse = 56516.8584157194\n",
      "Iteration: 1200, B1 = 5.889820420132705, mse = 56516.8584157194\n",
      "Iteration: 1300, B1 = 5.889820420132705, mse = 56516.8584157194\n",
      "Iteration: 1400, B1 = 5.889820420132705, mse = 56516.8584157194\n"
     ]
    }
   ],
   "source": [
    "for i in range(1500):\n",
    "    B1 -=alpha*(2/n)*np.sum((B1*zp-ks)*zp)\n",
    "    if i%100 == 0:\n",
    "        print(f'Iteration: {i}, B1 = {B1}, mse = {mse_(B1)}')"
   ]
  },
  {
   "cell_type": "markdown",
   "metadata": {},
   "source": [
    "#### Задание 3.\n",
    "\n",
    "В каких случаях для вычисления доверительных интервалов и проверки статистических гипотез используется таблица значений функции Лапласа, а в каких - таблица критических точек распределения Стьюдента?"
   ]
  },
  {
   "cell_type": "markdown",
   "metadata": {},
   "source": [
    "Таблица значений функции Лапласа, как и z-таблица нормального распределения может использоваться для вычисления доверительных интервалов и проверки статистических гипотез, когда мы имеем нормально распределенную генеральную совокупность, и ее дисперсия известна.\n",
    "\n",
    "Таблица критических точек распределения Стьюдента используется для генеральной совокупности с любым распределением, причем дисперсия этой совокупности неизвестна"
   ]
  },
  {
   "cell_type": "markdown",
   "metadata": {},
   "source": [
    "#### Задание 4*.\n",
    "\n",
    "Произвести вычисления как в пункте 2, но с вычислением intercept. Учесть, что изменение коэффициентов должно производиться на каждом шаге одновременно (то есть изменение одного коэффициента не должно влиять на изменение другого во время одной итерации)."
   ]
  },
  {
   "cell_type": "markdown",
   "metadata": {},
   "source": [
    "Чтобы найти коэффициенты линейной регрессии, нужно двигаться по направлению отрицательного градиента. То есть, для каждого коэффициента нужно найти частные производные:\n",
    "\n",
    "$$mse=\\frac{\\sum{(\\beta_{0}+\\beta_{1}X-y)^2}}{n}$$\n",
    "\n",
    "$$\\frac{\\partial{mse}}{\\partial{\\beta_{0}}}=2\\frac{\\sum{(\\beta_{0}+\\beta_{1}X-y)}}{n}$$\n",
    "\n",
    "$$\\frac{\\partial{mse}}{\\partial{\\beta_{1}}}=2\\frac{\\sum{(\\beta_{0}+\\beta_{1}X-y)X}}{n}$$"
   ]
  },
  {
   "cell_type": "code",
   "execution_count": 36,
   "metadata": {},
   "outputs": [],
   "source": [
    "def mse_2(B0, B1, y=ks, X=zp, n=len(ks)):\n",
    "    return np.sum((B0+B1*X-y)**2)/n"
   ]
  },
  {
   "cell_type": "code",
   "execution_count": 65,
   "metadata": {},
   "outputs": [],
   "source": [
    "alpha = 5e-5\n",
    "B0 = 200\n",
    "B1 = 5\n",
    "n = len(ks)"
   ]
  },
  {
   "cell_type": "code",
   "execution_count": 66,
   "metadata": {},
   "outputs": [
    {
     "name": "stdout",
     "output_type": "stream",
     "text": [
      "Iteration: 0, B0 = 200.00029, B1 = 4.1978670594, mse = 22260.6553770785\n",
      "Iteration: 20000, B0 = 297.16151019099004, B1 = 3.7026130685481675, mse = 11953.041146580606\n",
      "Iteration: 40000, B0 = 355.6604347343225, B1 = 3.2720460419324366, mse = 8457.941068066775\n",
      "Iteration: 60000, B0 = 390.8821123722811, B1 = 3.0128054980868813, mse = 7190.919733642474\n",
      "Iteration: 80000, B0 = 412.0887684829097, B1 = 2.8567190924427557, mse = 6731.607260230079\n",
      "Iteration: 100000, B0 = 424.85710586925154, B1 = 2.7627408679509298, mse = 6565.100238998214\n",
      "Iteration: 120000, B0 = 432.54480725701603, B1 = 2.706157422120443, mse = 6504.739178229401\n",
      "Iteration: 140000, B0 = 437.1735032915249, B1 = 2.6720890370305557, mse = 6482.857472399935\n",
      "Iteration: 160000, B0 = 439.9603996470447, B1 = 2.6515767680162163, mse = 6474.925056304045\n",
      "Iteration: 180000, B0 = 441.6383649397545, B1 = 2.6392265148707708, mse = 6472.0494475371315\n",
      "Iteration: 200000, B0 = 442.6486527884416, B1 = 2.6317905382535773, mse = 6471.007000232258\n",
      "Iteration: 220000, B0 = 443.2569380382271, B1 = 2.6273134034450503, mse = 6470.629098900212\n",
      "Iteration: 240000, B0 = 443.6231811298206, B1 = 2.624617760743975, mse = 6470.492104525447\n",
      "Iteration: 260000, B0 = 443.8436928094786, B1 = 2.6229947384579146, mse = 6470.442442200584\n",
      "Iteration: 280000, B0 = 443.9764609134569, B1 = 2.622017531300594, mse = 6470.424438932091\n",
      "Iteration: 300000, B0 = 444.05639939771964, B1 = 2.621429163638284, mse = 6470.4179125023\n",
      "Iteration: 320000, B0 = 444.1045296419182, B1 = 2.6210749127474062, mse = 6470.415546582701\n",
      "Iteration: 340000, B0 = 444.1335084301432, B1 = 2.6208616214642184, mse = 6470.414688904655\n",
      "Iteration: 360000, B0 = 444.15095629854665, B1 = 2.620733200696181, mse = 6470.4143779846945\n",
      "Iteration: 380000, B0 = 444.16146150357554, B1 = 2.6206558797038957, mse = 6470.414265271979\n",
      "Iteration: 400000, B0 = 444.1677865932769, B1 = 2.62060932542812, mse = 6470.414224412086\n",
      "Iteration: 420000, B0 = 444.1715948730364, B1 = 2.6205812955163674, mse = 6470.414209599819\n",
      "Iteration: 440000, B0 = 444.1738878041178, B1 = 2.6205644189579407, mse = 6470.414204230166\n",
      "Iteration: 460000, B0 = 444.17526835735055, B1 = 2.620554257733523, mse = 6470.414202283602\n",
      "Iteration: 480000, B0 = 444.17609957606567, B1 = 2.6205481397514667, mse = 6470.414201577938\n",
      "Iteration: 500000, B0 = 444.1766000453933, B1 = 2.6205444561693843, mse = 6470.4142013221335\n",
      "Iteration: 520000, B0 = 444.17690137348933, B1 = 2.6205422383176313, mse = 6470.414201229392\n",
      "Iteration: 540000, B0 = 444.1770828004303, B1 = 2.6205409029690045, mse = 6470.414201195776\n",
      "Iteration: 560000, B0 = 444.1771920359646, B1 = 2.620540098967571, mse = 6470.414201183588\n",
      "Iteration: 580000, B0 = 444.17725780570214, B1 = 2.620539614885504, mse = 6470.414201179168\n",
      "Iteration: 600000, B0 = 444.1772974050697, B1 = 2.620539323424044, mse = 6470.414201177572\n",
      "Iteration: 620000, B0 = 444.17732124749386, B1 = 2.620539147937712, mse = 6470.414201176991\n",
      "Iteration: 640000, B0 = 444.17733560280146, B1 = 2.620539042278981, mse = 6470.414201176778\n",
      "Iteration: 660000, B0 = 444.177344246004, B1 = 2.6205389786628026, mse = 6470.414201176701\n",
      "Iteration: 680000, B0 = 444.1773494499994, B1 = 2.620538940360068, mse = 6470.414201176673\n",
      "Iteration: 700000, B0 = 444.1773525832772, B1 = 2.620538917298343, mse = 6470.414201176664\n",
      "Iteration: 720000, B0 = 444.1773544697959, B1 = 2.6205389034130833, mse = 6470.414201176661\n",
      "Iteration: 740000, B0 = 444.1773556056514, B1 = 2.6205388950528965, mse = 6470.414201176662\n",
      "Iteration: 760000, B0 = 444.17735628954057, B1 = 2.6205388900192976, mse = 6470.414201176658\n",
      "Iteration: 780000, B0 = 444.177356701304, B1 = 2.6205388869886135, mse = 6470.414201176658\n"
     ]
    }
   ],
   "source": [
    "for i in range(800000):\n",
    "    B0 -= alpha*(2/n)*np.sum((B0+B1*zp-ks))\n",
    "    B1 -= alpha*(2/n)*np.sum((B0+B1*zp-ks)*zp)\n",
    "    if i%20000 == 0:\n",
    "        print(f'Iteration: {i}, B0 = {B0}, B1 = {B1}, mse = {mse_2(B0, B1)}')"
   ]
  }
 ],
 "metadata": {
  "kernelspec": {
   "display_name": "Python 3",
   "language": "python",
   "name": "python3"
  },
  "language_info": {
   "codemirror_mode": {
    "name": "ipython",
    "version": 3
   },
   "file_extension": ".py",
   "mimetype": "text/x-python",
   "name": "python",
   "nbconvert_exporter": "python",
   "pygments_lexer": "ipython3",
   "version": "3.8.5"
  }
 },
 "nbformat": 4,
 "nbformat_minor": 4
}
